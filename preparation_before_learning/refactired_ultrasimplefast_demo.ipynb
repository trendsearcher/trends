{
 "cells": [
  {
   "cell_type": "code",
   "execution_count": 8,
   "metadata": {},
   "outputs": [],
   "source": [
    "import numpy as np\n",
    "import pandas as pd\n"
   ]
  },
  {
   "cell_type": "code",
   "execution_count": 9,
   "metadata": {
    "collapsed": true
   },
   "outputs": [],
   "source": [
    "inputpath='../../trends_data/preprocess/pureSBER315.csv'\n",
    "historyOutPath='../../trends_data/preprocess/shit.csv'\n"
   ]
  },
  {
   "cell_type": "code",
   "execution_count": 10,
   "metadata": {},
   "outputs": [],
   "source": [
    "columns = ['<TIME>', '<VOLUME>', '<PRICE>']\n",
    "###############################################################################\n",
    "data = pd.read_csv(inputpath, sep = ',', names=columns, header = 0)\n",
    "y_column = data['<PRICE>']\n",
    "y_array = np.array(y_column)\n",
    "x_list = np.array(range(len(y_array)))\n",
    "ticks_total = len(y_array) - 1\n",
    "\n",
    "step_read = 60\n",
    "Lmax = 400000\n",
    "zazor_coeff = 0.00005\n",
    "relax_coef = 1\n",
    "# сетка на 800 делений\n",
    "number_of_bars = 800\n",
    "\n",
    "# место остановки окна\n",
    "pitstop = ticks_total - 1000\n",
    "min_trend_len = 3000\n",
    "\n",
    "# старт движения окна\n",
    "breaker = 5000\n",
    "\n",
    "# инициализация переменной не нулем и не единицей\n",
    "direction = 456\n",
    "x_stop = 0"
   ]
  },
  {
   "cell_type": "code",
   "execution_count": 33,
   "metadata": {},
   "outputs": [],
   "source": [
    "def get_delimeters(breaker, number_of_bars, window_max_size):\n",
    "    \"\"\"\n",
    "    :param breaker: end tick of the window\n",
    "    :param number_of_bars: number of bars in\n",
    "        window separating grid\n",
    "    :return: a numpy array of ticks corresponding to\n",
    "        hyperbolic grid for a given window\n",
    "    \"\"\"\n",
    "\n",
    "    if breaker <= window_max_size:\n",
    "        window_starting_tick = 10\n",
    "        window_size = breaker - window_starting_tick\n",
    "    else:\n",
    "        window_starting_tick = breaker - window_max_size\n",
    "        window_size = window_max_size\n",
    "\n",
    "    k = window_size/np.log(number_of_bars)\n",
    "    delimiters_list = []\n",
    "    for i in range(1,number_of_bars+1):\n",
    "        window_starting_tick += int(k/i)\n",
    "        delimiters_list.append(window_starting_tick)\n",
    "\n",
    "    return np.array(delimiters_list)\n",
    "\n",
    "\n",
    "def get_grid_extremum_coordinates(y_array, window_delimiters):\n",
    "    \"\"\"\n",
    "    takes arrays of ticks and corresponding prices, cuts a\n",
    "    window corresponding to window's_delimeters boundaries.\n",
    "    Slices this 2D array according to  window_delimeters list.\n",
    "\n",
    "    :return: dataframe with 2D arrays of ticks and prices\n",
    "        for each grid section and section number as index\n",
    "    \"\"\"\n",
    "    #TODO: check the code\n",
    "    #нарезаем на куски y согласно разделителям\n",
    "    sliced_y = [y_array[window_delimiters[i]:window_delimiters[i+1]] for i in range(len(window_delimiters)-1)]\n",
    "    #записываем координаты x соответствующие началу каждого куска\n",
    "    x_start_of_slice = window_delimiters[:-1]\n",
    "    #собираем в датафрейм\n",
    "    #TODO: column name change will break append_extremums function. Bad design\n",
    "    slice_dict = {'y_slice': sliced_y,\n",
    "                  'x_start_of_slice': x_start_of_slice}\n",
    "    sliced_window_df = pd.DataFrame.from_dict(slice_dict)\n",
    "\n",
    "    return sliced_window_df\n",
    "\n",
    "\n",
    "# noinspection PyUnreachableCode\n",
    "def append_extremums(sliced_window_df):\n",
    "    \"\"\"\n",
    "    takes sliced_window_df and calculates min and max\n",
    "    coordinates for each window section\n",
    "    :param sliced_window_df:\n",
    "    :return: df with coordinates of max and mins\n",
    "    \"\"\"\n",
    "    #TODO: check the code\n",
    "    sliced_window_df['max_y'] = sliced_window_df['y_slice'].apply(np.max)\n",
    "    sliced_window_df['max_x'] = sliced_window_df['y_slice'].apply(np.argmax) + sliced_window_df['x_start_of_slice']\n",
    "    sliced_window_df['min_y'] = sliced_window_df['y_slice'].apply(np.min)\n",
    "    sliced_window_df['min_x'] = sliced_window_df['y_slice'].apply(np.argmin) + sliced_window_df['x_start_of_slice']\n",
    "\n",
    "    return sliced_window_df\n",
    "\n"
   ]
  },
  {
   "cell_type": "code",
   "execution_count": 26,
   "metadata": {},
   "outputs": [],
   "source": [
    "delitemers = get_delimeters(500000, 800, Lmax)"
   ]
  },
  {
   "cell_type": "code",
   "execution_count": 31,
   "metadata": {},
   "outputs": [
    {
     "ename": "AttributeError",
     "evalue": "module 'pandas' has no attribute 'from_dict'",
     "output_type": "error",
     "traceback": [
      "\u001b[1;31m---------------------------------------------------------------------------\u001b[0m",
      "\u001b[1;31mAttributeError\u001b[0m                            Traceback (most recent call last)",
      "\u001b[1;32m<ipython-input-31-7cd2a9578c82>\u001b[0m in \u001b[0;36m<module>\u001b[1;34m()\u001b[0m\n\u001b[1;32m----> 1\u001b[1;33m \u001b[0msliced_window_df\u001b[0m \u001b[1;33m=\u001b[0m \u001b[0mget_grid_extremum_coordinates\u001b[0m\u001b[1;33m(\u001b[0m\u001b[0my_array\u001b[0m\u001b[1;33m,\u001b[0m \u001b[0mdelitemers\u001b[0m\u001b[1;33m)\u001b[0m\u001b[1;33m\u001b[0m\u001b[0m\n\u001b[0m",
      "\u001b[1;32m<ipython-input-18-10d119173a23>\u001b[0m in \u001b[0;36mget_grid_extremum_coordinates\u001b[1;34m(y_array, window_delimiters)\u001b[0m\n\u001b[0;32m     42\u001b[0m     slice_dict = {'y_slice': sliced_y,\n\u001b[0;32m     43\u001b[0m                   'x_start_of_slice': x_start_of_slice}\n\u001b[1;32m---> 44\u001b[1;33m     \u001b[0msliced_window_df\u001b[0m \u001b[1;33m=\u001b[0m \u001b[0mpd\u001b[0m\u001b[1;33m.\u001b[0m\u001b[0mfrom_dict\u001b[0m\u001b[1;33m(\u001b[0m\u001b[0mslice_dict\u001b[0m\u001b[1;33m)\u001b[0m\u001b[1;33m\u001b[0m\u001b[0m\n\u001b[0m\u001b[0;32m     45\u001b[0m \u001b[1;33m\u001b[0m\u001b[0m\n\u001b[0;32m     46\u001b[0m     \u001b[1;32mreturn\u001b[0m \u001b[0msliced_window_df\u001b[0m\u001b[1;33m\u001b[0m\u001b[0m\n",
      "\u001b[1;31mAttributeError\u001b[0m: module 'pandas' has no attribute 'from_dict'"
     ]
    }
   ],
   "source": [
    "sliced_window_df = get_grid_extremum_coordinates(y_array, delitemers)"
   ]
  },
  {
   "cell_type": "code",
   "execution_count": 30,
   "metadata": {},
   "outputs": [
    {
     "ename": "AttributeError",
     "evalue": "'tuple' object has no attribute 'head'",
     "output_type": "error",
     "traceback": [
      "\u001b[1;31m---------------------------------------------------------------------------\u001b[0m",
      "\u001b[1;31mAttributeError\u001b[0m                            Traceback (most recent call last)",
      "\u001b[1;32m<ipython-input-30-9186577e41a1>\u001b[0m in \u001b[0;36m<module>\u001b[1;34m()\u001b[0m\n\u001b[1;32m----> 1\u001b[1;33m \u001b[0msliced_window_df\u001b[0m\u001b[1;33m.\u001b[0m\u001b[0mhead\u001b[0m\u001b[1;33m(\u001b[0m\u001b[1;33m)\u001b[0m\u001b[1;33m\u001b[0m\u001b[0m\n\u001b[0m",
      "\u001b[1;31mAttributeError\u001b[0m: 'tuple' object has no attribute 'head'"
     ]
    }
   ],
   "source": [
    "sliced_window_df.head()"
   ]
  },
  {
   "cell_type": "code",
   "execution_count": null,
   "metadata": {
    "collapsed": true
   },
   "outputs": [],
   "source": []
  }
 ],
 "metadata": {
  "kernelspec": {
   "display_name": "Python 3",
   "language": "python",
   "name": "python3"
  },
  "language_info": {
   "codemirror_mode": {
    "name": "ipython",
    "version": 3
   },
   "file_extension": ".py",
   "mimetype": "text/x-python",
   "name": "python",
   "nbconvert_exporter": "python",
   "pygments_lexer": "ipython3",
   "version": "3.6.2"
  }
 },
 "nbformat": 4,
 "nbformat_minor": 2
}
